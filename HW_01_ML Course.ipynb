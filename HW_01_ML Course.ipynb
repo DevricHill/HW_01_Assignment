{
 "cells": [
  {
   "cell_type": "code",
   "execution_count": 1,
   "metadata": {},
   "outputs": [
    {
     "ename": "ModuleNotFoundError",
     "evalue": "No module named 'pandas'",
     "output_type": "error",
     "traceback": [
      "\u001b[1;31m---------------------------------------------------------------------------\u001b[0m",
      "\u001b[1;31mModuleNotFoundError\u001b[0m                       Traceback (most recent call last)",
      "Cell \u001b[1;32mIn[1], line 2\u001b[0m\n\u001b[0;32m      1\u001b[0m \u001b[38;5;66;03m#HW1\u001b[39;00m\n\u001b[1;32m----> 2\u001b[0m \u001b[38;5;28;01mimport\u001b[39;00m\u001b[38;5;250m \u001b[39m\u001b[38;5;21;01mpandas\u001b[39;00m\u001b[38;5;250m \u001b[39m\u001b[38;5;28;01mas\u001b[39;00m\u001b[38;5;250m \u001b[39m\u001b[38;5;21;01mpd\u001b[39;00m\n\u001b[0;32m      3\u001b[0m \u001b[38;5;28;01mimport\u001b[39;00m\u001b[38;5;250m \u001b[39m\u001b[38;5;21;01mrequests\u001b[39;00m\n\u001b[0;32m      6\u001b[0m csv_url \u001b[38;5;241m=\u001b[39m \u001b[38;5;124m'\u001b[39m\u001b[38;5;124mhttps://vincentarelbundock.github.io/Rdatasets/csv/ggplot2/diamonds.csv\u001b[39m\u001b[38;5;124m'\u001b[39m\n",
      "\u001b[1;31mModuleNotFoundError\u001b[0m: No module named 'pandas'"
     ]
    }
   ],
   "source": [
    "#HW1\n",
    "import pandas as pd\n",
    "import requests\n",
    "\n",
    "\n",
    "csv_url = 'https://vincentarelbundock.github.io/Rdatasets/csv/ggplot2/diamonds.csv'\n",
    "\n",
    "response = requests.get(csv_url)\n",
    "\n",
    "if response.status_code == 200:\n",
    "   \n",
    "    with open('diamonds.csv', 'wb') as file:\n",
    "        file.write(response.content)\n",
    "\n",
    "  \n",
    "    df = pd.read_csv('diamonds.csv', index_col = 0)\n",
    "\n",
    "    print(f\"First Row (7):\\n{df.head(7)}\")\n",
    "\n",
    "    print(f\"\\nLast Row (7):\\n{df.tail(7)}\")\n",
    "\n",
    "    print(f\"\\nDataFrame:\\n{df.describe()}\")\n",
    "\n",
    "    cut_series = df[\"cut\"]\n",
    "    color_series = df[\"color\"]\n",
    "    clarity_series = df[\"clarity\"]\n",
    "\n",
    "    unique_cut = cut_series.unique()\n",
    "    unique_color = color_series.unique()\n",
    "    unique_clarity = clarity_series.unique()\n",
    "\n",
    "    print(f\"\\nUnique Cut: {unique_cut}\\nUnique Color: {unique_color}\\nUnique Clarity: {unique_clarity}\")\n",
    "\n",
    "    import matplotlib.pyplot as plt\n",
    "\n",
    "    array = ['carat', 'depth', 'price', 'table', 'x', 'y', 'z']\n",
    "    \n",
    "    for name in array:\n",
    "        print(name.capitalize())\n",
    "        plt.hist(df[name], bins = 10, edgecolor = 'black')\n",
    "        plt.show()"
   ]
  }
 ],
 "metadata": {
  "kernelspec": {
   "display_name": "Python 3",
   "language": "python",
   "name": "python3"
  },
  "language_info": {
   "codemirror_mode": {
    "name": "ipython",
    "version": 3
   },
   "file_extension": ".py",
   "mimetype": "text/x-python",
   "name": "python",
   "nbconvert_exporter": "python",
   "pygments_lexer": "ipython3",
   "version": "3.11.9"
  }
 },
 "nbformat": 4,
 "nbformat_minor": 2
}
